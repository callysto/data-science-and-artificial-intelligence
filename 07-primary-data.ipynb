{
 "cells": [
  {
   "cell_type": "markdown",
   "metadata": {},
   "source": [
    "![Callysto.ca Banner](https://github.com/callysto/curriculum-notebooks/blob/master/callysto-notebook-banner-top.jpg?raw=true)\n",
    "\n",
    "<a href=\"https://hub.callysto.ca/jupyter/hub/user-redirect/git-pull?repo=https%3A%2F%2Fgithub.com%2Fcallysto%2Fdata-science-and-artificial-intelligence&branch=main&subPath=07-primary-data.ipynb&depth=1\" target=\"_parent\"><img src=\"https://raw.githubusercontent.com/callysto/curriculum-notebooks/master/open-in-callysto-button.svg?sanitize=true\" width=\"123\" height=\"24\" alt=\"Open in Callysto\"/></a>"
   ]
  },
  {
   "cell_type": "markdown",
   "metadata": {},
   "source": [
    "# Primary Data\n",
    "\n",
    "So far we have been using data collected by others (secondary data), but we can also use data that we collect ourselves (primary data). \n",
    "\n",
    "Three ways to do this:\n",
    "1. Google Sheets\n",
    "1. EtherCalc\n",
    "1. Other Online Files\n"
   ]
  },
  {
   "cell_type": "markdown",
   "metadata": {},
   "source": [
    "## 1. Google Sheets\n",
    "\n",
    "One way is read data from a Google Sheet, but you first need to make the Sheet public:\n",
    "\n",
    "1. Click the `Share` button\n",
    "1. Under `General access` click the Down arrow.\n",
    "1. Choose `Anyone with the link`.\n",
    "1. To the right of that, select `Viewer`.\n",
    "1. Click `Copy link`.\n",
    "1. Paste the link into the code cell below between the `'` marks in the first line of the code cell below.\n",
    "\n",
    "**remove the current url and replace it with your own link**"
   ]
  },
  {
   "cell_type": "code",
   "execution_count": 1,
   "metadata": {},
   "outputs": [
    {
     "data": {
      "text/html": [
       "<div>\n",
       "<style scoped>\n",
       "    .dataframe tbody tr th:only-of-type {\n",
       "        vertical-align: middle;\n",
       "    }\n",
       "\n",
       "    .dataframe tbody tr th {\n",
       "        vertical-align: top;\n",
       "    }\n",
       "\n",
       "    .dataframe thead th {\n",
       "        text-align: right;\n",
       "    }\n",
       "</style>\n",
       "<table border=\"1\" class=\"dataframe\">\n",
       "  <thead>\n",
       "    <tr style=\"text-align: right;\">\n",
       "      <th></th>\n",
       "      <th>geo</th>\n",
       "      <th>name</th>\n",
       "      <th>time</th>\n",
       "      <th>Life expectancy</th>\n",
       "    </tr>\n",
       "  </thead>\n",
       "  <tbody>\n",
       "    <tr>\n",
       "      <th>0</th>\n",
       "      <td>afg</td>\n",
       "      <td>Afghanistan</td>\n",
       "      <td>1800</td>\n",
       "      <td>28.21</td>\n",
       "    </tr>\n",
       "    <tr>\n",
       "      <th>1</th>\n",
       "      <td>afg</td>\n",
       "      <td>Afghanistan</td>\n",
       "      <td>1801</td>\n",
       "      <td>28.20</td>\n",
       "    </tr>\n",
       "    <tr>\n",
       "      <th>2</th>\n",
       "      <td>afg</td>\n",
       "      <td>Afghanistan</td>\n",
       "      <td>1802</td>\n",
       "      <td>28.19</td>\n",
       "    </tr>\n",
       "    <tr>\n",
       "      <th>3</th>\n",
       "      <td>afg</td>\n",
       "      <td>Afghanistan</td>\n",
       "      <td>1803</td>\n",
       "      <td>28.18</td>\n",
       "    </tr>\n",
       "    <tr>\n",
       "      <th>4</th>\n",
       "      <td>afg</td>\n",
       "      <td>Afghanistan</td>\n",
       "      <td>1804</td>\n",
       "      <td>28.17</td>\n",
       "    </tr>\n",
       "    <tr>\n",
       "      <th>...</th>\n",
       "      <td>...</td>\n",
       "      <td>...</td>\n",
       "      <td>...</td>\n",
       "      <td>...</td>\n",
       "    </tr>\n",
       "    <tr>\n",
       "      <th>56125</th>\n",
       "      <td>zwe</td>\n",
       "      <td>Zimbabwe</td>\n",
       "      <td>2096</td>\n",
       "      <td>75.12</td>\n",
       "    </tr>\n",
       "    <tr>\n",
       "      <th>56126</th>\n",
       "      <td>zwe</td>\n",
       "      <td>Zimbabwe</td>\n",
       "      <td>2097</td>\n",
       "      <td>75.25</td>\n",
       "    </tr>\n",
       "    <tr>\n",
       "      <th>56127</th>\n",
       "      <td>zwe</td>\n",
       "      <td>Zimbabwe</td>\n",
       "      <td>2098</td>\n",
       "      <td>75.38</td>\n",
       "    </tr>\n",
       "    <tr>\n",
       "      <th>56128</th>\n",
       "      <td>zwe</td>\n",
       "      <td>Zimbabwe</td>\n",
       "      <td>2099</td>\n",
       "      <td>75.52</td>\n",
       "    </tr>\n",
       "    <tr>\n",
       "      <th>56129</th>\n",
       "      <td>zwe</td>\n",
       "      <td>Zimbabwe</td>\n",
       "      <td>2100</td>\n",
       "      <td>75.65</td>\n",
       "    </tr>\n",
       "  </tbody>\n",
       "</table>\n",
       "<p>56130 rows × 4 columns</p>\n",
       "</div>"
      ],
      "text/plain": [
       "       geo         name  time  Life expectancy \n",
       "0      afg  Afghanistan  1800             28.21\n",
       "1      afg  Afghanistan  1801             28.20\n",
       "2      afg  Afghanistan  1802             28.19\n",
       "3      afg  Afghanistan  1803             28.18\n",
       "4      afg  Afghanistan  1804             28.17\n",
       "...    ...          ...   ...               ...\n",
       "56125  zwe     Zimbabwe  2096             75.12\n",
       "56126  zwe     Zimbabwe  2097             75.25\n",
       "56127  zwe     Zimbabwe  2098             75.38\n",
       "56128  zwe     Zimbabwe  2099             75.52\n",
       "56129  zwe     Zimbabwe  2100             75.65\n",
       "\n",
       "[56130 rows x 4 columns]"
      ]
     },
     "execution_count": 1,
     "metadata": {},
     "output_type": "execute_result"
    }
   ],
   "source": [
    "sheet_link = 'https://docs.google.com/spreadsheets/d/11mulzUH3_cueq-V9D5KIlo9oHE9YYZrUSeVyCin7_rM/edit#gid=176703676'\n",
    "\n",
    "import pandas as pd\n",
    "data = pd.read_csv(sheet_link.replace('/edit#gid=', '/export?format=csv&gid='))\n",
    "data"
   ]
  },
  {
   "cell_type": "markdown",
   "metadata": {},
   "source": [
    "## 2. EtherCalc\n",
    "\n",
    "You can also use [EtherCalc](https://ethercalc.net/) to create a public spreadsheet that we can read data from.\n",
    "\n",
    "`Run` the following code cell to create an EtherCalc sheet and a link to it. You can change `my_callysto_data` to whatever you'd like your spreadsheet to be named."
   ]
  },
  {
   "cell_type": "code",
   "execution_count": null,
   "metadata": {},
   "outputs": [],
   "source": [
    "spreadsheet_name = 'my_callysto_data'\n",
    "\n",
    "print('Your spreadsheet is available at https://ethercalc.net/' + spreadsheet_name)"
   ]
  },
  {
   "cell_type": "markdown",
   "metadata": {},
   "source": [
    "After you have added data to that spreadsheet, you load it into a dataframe using the following code cell."
   ]
  },
  {
   "cell_type": "code",
   "execution_count": null,
   "metadata": {},
   "outputs": [],
   "source": [
    "import pandas as pd\n",
    "xlsx_url = 'https://ethercalc.net/' + spreadsheet_name + '.xlsx'\n",
    "data = pd.read_excel(xlsx_url)\n",
    "data"
   ]
  },
  {
   "cell_type": "markdown",
   "metadata": {},
   "source": [
    "It's even possible to write to an EtherCalc sheet using Python code."
   ]
  },
  {
   "cell_type": "code",
   "execution_count": null,
   "metadata": {},
   "outputs": [],
   "source": [
    "observations = [1, 2, 4, 8, 16]\n",
    "\n",
    "import requests\n",
    "from datetime import datetime\n",
    "base_url = 'https://ethercalc.net/'\n",
    "post_url = base_url + '_/' + spreadsheet_name\n",
    "print('posting to', base_url + spreadsheet_name)\n",
    "date_and_time = datetime.now().strftime(\"%Y-%m-%d %H:%M:%S\")\n",
    "data_string = date_and_time+','\n",
    "for observation in observations:\n",
    "    data_string += str(observation)+','\n",
    "r = requests.post(post_url, data = data_string)\n",
    "print('successful:', r.json()['command'][1])"
   ]
  },
  {
   "cell_type": "markdown",
   "metadata": {},
   "source": [
    "# 3. Other Online Files\n",
    "\n",
    "Another option is to save the data in a [CSV](https://en.wikipedia.org/wiki/Comma-separated_values) or [Excel file](https://en.wikipedia.org/wiki/Microsoft_Excel#File_formats) format. Then upload it to an online file sharing site such as [GitHub](https://github.com).\n",
    "\n",
    "A file can be loaded from the link. If you are using GitHub, make sure you copy the [raw link](https://docs.github.com/en/repositories/working-with-files/using-files/viewing-a-file#viewing-or-copying-the-raw-file-content).\n",
    "\n",
    "Change `read_csv` to `read_excel` if it is an Excel file."
   ]
  },
  {
   "cell_type": "code",
   "execution_count": null,
   "metadata": {},
   "outputs": [],
   "source": [
    "import pandas as pd\n",
    "data = pd.read_csv('https://raw.githubusercontent.com/callysto/data-files/main/data-science-and-artificial-intelligence/pets.csv')"
   ]
  },
  {
   "cell_type": "markdown",
   "metadata": {},
   "source": [
    "# Uploading to the Callysto Hub\n",
    "\n",
    "If we don't want or need the data to be publicly accessible on the internet, a file can be uploaded to [this folder on the Callysto Hub](.) and then loaded as a local file.\n",
    "\n",
    "1. Open [this folder on the Callysto Hub](.)\n",
    "1. Click the `Upload` button at the top right.\n",
    "1. A file picker window will open, select the file from your computer and click the `Open` button.\n",
    "1. Click the blue `Upload` button that appears next to the file.\n",
    "1. Change `my_data_file.csv` in the code below to the name of your file, and change `read_csv` to `read_excel` if it is an Excel file."
   ]
  },
  {
   "cell_type": "code",
   "execution_count": null,
   "metadata": {},
   "outputs": [],
   "source": [
    "import pandas as pd\n",
    "data = pd.read_csv('my_data_file.csv')"
   ]
  },
  {
   "cell_type": "markdown",
   "metadata": {},
   "source": [
    "---\n",
    "\n",
    "<span style=\"color:#663399\">Your **assignment** is to create a document with least one visualization of your own data, and write about what you notice.</span>\n",
    "\n",
    "---\n",
    "\n",
    "The [next notebook](08-natural-language-processing.ipynb) will introduce artificial intelligence and natural language processing."
   ]
  },
  {
   "cell_type": "markdown",
   "metadata": {},
   "source": [
    "[![Callysto.ca License](https://github.com/callysto/curriculum-notebooks/blob/master/callysto-notebook-banner-bottom.jpg?raw=true)](https://github.com/callysto/curriculum-notebooks/blob/master/LICENSE.md)"
   ]
  }
 ],
 "metadata": {
  "kernelspec": {
   "display_name": "Python 3 (ipykernel)",
   "language": "python",
   "name": "python3"
  },
  "language_info": {
   "codemirror_mode": {
    "name": "ipython",
    "version": 3
   },
   "file_extension": ".py",
   "mimetype": "text/x-python",
   "name": "python",
   "nbconvert_exporter": "python",
   "pygments_lexer": "ipython3",
   "version": "3.9.12"
  }
 },
 "nbformat": 4,
 "nbformat_minor": 4
}
