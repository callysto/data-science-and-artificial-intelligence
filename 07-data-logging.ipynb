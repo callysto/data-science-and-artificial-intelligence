{
 "cells": [
  {
   "attachments": {},
   "cell_type": "markdown",
   "metadata": {},
   "source": [
    "![Callysto.ca Banner](https://github.com/callysto/curriculum-notebooks/blob/master/callysto-notebook-banner-top.jpg?raw=true)\n",
    "\n",
    "<a href=\"https://hub.callysto.ca/jupyter/hub/user-redirect/git-pull?repo=https%3A%2F%2Fgithub.com%2Fcallysto%2Fdata-science-and-artificial-intelligence&branch=main&subPath=07-data-logging.ipynb&depth=1\" target=\"_parent\"><img src=\"https://raw.githubusercontent.com/callysto/curriculum-notebooks/master/open-in-callysto-button.svg?sanitize=true\" width=\"123\" height=\"24\" alt=\"Open in Callysto\"/></a>"
   ]
  },
  {
   "attachments": {},
   "cell_type": "markdown",
   "metadata": {},
   "source": [
    "# Data Logging\n",
    "\n",
    "So far we have been using data collected by others (secondary data), but we can also use data that we collect ourselves (primary data)."
   ]
  },
  {
   "attachments": {},
   "cell_type": "markdown",
   "metadata": {},
   "source": [
    "## Google Sheets\n",
    "\n",
    "One way is read data from a Google Sheet, but you first need to make the Sheet public:\n",
    "\n",
    "1. Click the `Share` button\n",
    "1. Under `General access` click the Down arrow.\n",
    "1. Choose `Anyone with the link`.\n",
    "1. To the right of that, select `Viewer`.\n",
    "1. Click `Copy link`.\n",
    "1. Paste the link into the code cell below between the `'` marks in the first line of the code cell below."
   ]
  },
  {
   "cell_type": "code",
   "execution_count": null,
   "metadata": {},
   "outputs": [],
   "source": [
    "sheet_link = 'https://docs.google.com/spreadsheets/d/11mulzUH3_cueq-V9D5KIlo9oHE9YYZrUSeVyCin7_rM/edit#gid=176703676'\n",
    "\n",
    "import pandas as pd\n",
    "data = pd.read_csv(sheet_link.replace('/edit#gid=', '/export?format=csv&gid='))\n",
    "data"
   ]
  },
  {
   "attachments": {},
   "cell_type": "markdown",
   "metadata": {},
   "source": [
    "## EtherCalc\n",
    "\n",
    "You can also use [EtherCalc](https://ethercalc.net/) to create a public spreadsheet that we can read data from.\n",
    "\n",
    "`Run` the following code cell to create an EtherCalc sheet and a link to it. You can change `my_callysto_data` to whatever you'd like your spreadsheet to be named."
   ]
  },
  {
   "cell_type": "code",
   "execution_count": null,
   "metadata": {},
   "outputs": [],
   "source": [
    "spreadsheet_name = 'my_callysto_data'\n",
    "\n",
    "print('Your spreadsheet is available at https://ethercalc.net/' + spreadsheet_name)"
   ]
  },
  {
   "attachments": {},
   "cell_type": "markdown",
   "metadata": {},
   "source": [
    "After you have added data to that spreadsheet, you load it into a dataframe using the following code cell."
   ]
  },
  {
   "cell_type": "code",
   "execution_count": null,
   "metadata": {},
   "outputs": [],
   "source": [
    "import pandas as pd\n",
    "xlsx_url = 'https://ethercalc.net/' + spreadsheet_name + '.xlsx'\n",
    "data = pd.read_excel(xlsx_url)\n",
    "data"
   ]
  },
  {
   "attachments": {},
   "cell_type": "markdown",
   "metadata": {},
   "source": [
    "It's even possible to write to an EtherCalc sheet using Python code."
   ]
  },
  {
   "cell_type": "code",
   "execution_count": null,
   "metadata": {},
   "outputs": [],
   "source": [
    "observations = [1, 2, 4, 8, 16]\n",
    "\n",
    "import requests\n",
    "from datetime import datetime\n",
    "base_url = 'https://ethercalc.net/'\n",
    "post_url = base_url + '_/' + spreadsheet_name\n",
    "print('posting to', base_url + spreadsheet_name)\n",
    "date_and_time = datetime.now().strftime(\"%Y-%m-%d %H:%M:%S\")\n",
    "data_string = date_and_time+','\n",
    "for observation in observations:\n",
    "    data_string += str(observation)+','\n",
    "r = requests.post(post_url, data = data_string)\n",
    "print('successful:', r.json()['command'][1])"
   ]
  },
  {
   "attachments": {},
   "cell_type": "markdown",
   "metadata": {},
   "source": [
    "# Microsoft Excel Online\n",
    "\n"
   ]
  },
  {
   "cell_type": "code",
   "execution_count": null,
   "metadata": {},
   "outputs": [],
   "source": [
    "\n",
    "import pandas as pd\n",
    "data = pd.read_excel(excel_link)\n",
    "data"
   ]
  },
  {
   "attachments": {},
   "cell_type": "markdown",
   "metadata": {},
   "source": [
    "The [next notebook](08-.ipynb) will ."
   ]
  },
  {
   "attachments": {},
   "cell_type": "markdown",
   "metadata": {},
   "source": [
    "[![Callysto.ca License](https://github.com/callysto/curriculum-notebooks/blob/master/callysto-notebook-banner-bottom.jpg?raw=true)](https://github.com/callysto/curriculum-notebooks/blob/master/LICENSE.md)"
   ]
  }
 ],
 "metadata": {
  "kernelspec": {
   "display_name": "Python 3",
   "language": "python",
   "name": "python3"
  },
  "language_info": {
   "codemirror_mode": {
    "name": "ipython",
    "version": 3
   },
   "file_extension": ".py",
   "mimetype": "text/x-python",
   "name": "python",
   "nbconvert_exporter": "python",
   "pygments_lexer": "ipython3",
   "version": "3.10.4"
  },
  "orig_nbformat": 4
 },
 "nbformat": 4,
 "nbformat_minor": 2
}
