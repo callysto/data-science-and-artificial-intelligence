{
 "cells": [
  {
   "attachments": {},
   "cell_type": "markdown",
   "metadata": {},
   "source": [
    "![Callysto.ca Banner](https://github.com/callysto/curriculum-notebooks/blob/master/callysto-notebook-banner-top.jpg?raw=true)\n",
    "\n",
    "<a href=\"https://hub.callysto.ca/jupyter/hub/user-redirect/git-pull?repo=https%3A%2F%2Fgithub.com%2Fcallysto%2Fdata-science-and-artificial-intelligence&branch=main&subPath=06-data-analysis.ipynb&depth=1\" target=\"_parent\"><img src=\"https://raw.githubusercontent.com/callysto/curriculum-notebooks/master/open-in-callysto-button.svg?sanitize=true\" width=\"123\" height=\"24\" alt=\"Open in Callysto\"/></a>"
   ]
  },
  {
   "attachments": {},
   "cell_type": "markdown",
   "metadata": {},
   "source": [
    "# Data Analysis\n",
    "\n",
    "Now that you have some experience with data science, we'll introduce some larger data sets to analyse.\n",
    "\n",
    "## Pokémon Data\n",
    "\n",
    "The first option is some Pokémon data that we [got from PokéAPI](06b-getting-data.ipynb). `Run` the following cell to import the data from a [CSV](https://en.wikipedia.org/wiki/Comma-separated_values) file of Pokémon."
   ]
  },
  {
   "cell_type": "code",
   "execution_count": null,
   "metadata": {},
   "outputs": [],
   "source": [
    "import pandas as pd\n",
    "data = pd.read_csv('data/pokemon.csv')\n",
    "data"
   ]
  },
  {
   "attachments": {},
   "cell_type": "markdown",
   "metadata": {},
   "source": [
    "### Column Descriptions\n",
    "\n",
    "From https://pokeapi.co/docs/v2\n",
    "\n",
    "|Value|Description|\n",
    "|-|-|\n",
    "|id||\n",
    "|name||\n",
    "|base_experience||\n",
    "|height||\n",
    "|weight||\n",
    "|speed||\n",
    "|hp||\n",
    "|attack||\n",
    "|defense||\n",
    "|special-attack||\n",
    "|special-defense||\n",
    "|forms||\n",
    "|species||\n",
    "|is_default||\n",
    "|pokemon_order||\n",
    "|type1||\n",
    "|type2||\n",
    "|ability1||\n",
    "|ability2||\n",
    "|ability3||\n",
    "|base_happiness||\n",
    "|capture_rate||\n",
    "|color||\n",
    "|evolves_from_species||\n",
    "|forms_switchable||\n",
    "|generation||\n",
    "|growth_rate||\n",
    "|habitat||\n",
    "|has_gender_differences||\n",
    "|hatch_counter||\n",
    "|is_baby||\n",
    "|is_legendary||\n",
    "|is_mythical||\n",
    "|species_order||\n",
    "|pal_park_encounters||\n",
    "|shape||\n",
    "|varieties||\n",
    "|egg_group1||\n",
    "|egg_group2||\n",
    "|%_female||\n",
    "|%_male||"
   ]
  },
  {
   "attachments": {},
   "cell_type": "markdown",
   "metadata": {},
   "source": [
    "We can make some visualizations from this data set, such as speed versus weight."
   ]
  },
  {
   "cell_type": "code",
   "execution_count": null,
   "metadata": {},
   "outputs": [],
   "source": [
    "import plotly.express as px\n",
    "px.scatter(data, x='weight', y='speed', color='type1', hover_data=['name'], title='Pokemon Speed versus Weight')"
   ]
  },
  {
   "attachments": {},
   "cell_type": "markdown",
   "metadata": {},
   "source": [
    "Or we can look at visualizations such as a histogram of shapes."
   ]
  },
  {
   "cell_type": "code",
   "execution_count": null,
   "metadata": {},
   "outputs": [],
   "source": [
    "px.histogram(data, x='shape', color='is_legendary', title='Pokemon Shape Frequencies')"
   ]
  },
  {
   "attachments": {},
   "cell_type": "markdown",
   "metadata": {},
   "source": [
    "## Pokémon Images\n",
    "\n",
    "We can also display images of Pokémon by their index number. For example let's choose the first five from our dataframe."
   ]
  },
  {
   "cell_type": "code",
   "execution_count": null,
   "metadata": {},
   "outputs": [],
   "source": [
    "from IPython.display import Image\n",
    "def display_pokemon(n):\n",
    "    image_url = 'https://raw.githubusercontent.com/PokeAPI/sprites/master/sprites/pokemon/other/official-artwork/'+str(n+1)+'.png'\n",
    "    display(Image(url=image_url, width=200, height=200))\n",
    "\n",
    "for n in range(5):\n",
    "    display_pokemon(n)\n",
    "    print(data['name'][n])"
   ]
  },
  {
   "attachments": {},
   "cell_type": "markdown",
   "metadata": {},
   "source": [
    "## Pokémon Types\n",
    "\n",
    "We can also look at at data set of the types of Pokémon."
   ]
  },
  {
   "cell_type": "code",
   "execution_count": null,
   "metadata": {},
   "outputs": [],
   "source": [
    "types = pd.read_csv('data/pokemon_types.csv')\n",
    "types"
   ]
  },
  {
   "attachments": {},
   "cell_type": "markdown",
   "metadata": {},
   "source": [
    "The [next notebook](07-data-logging.ipynb) will introduce you to recording and using your own data."
   ]
  },
  {
   "attachments": {},
   "cell_type": "markdown",
   "metadata": {},
   "source": [
    "[![Callysto.ca License](https://github.com/callysto/curriculum-notebooks/blob/master/callysto-notebook-banner-bottom.jpg?raw=true)](https://github.com/callysto/curriculum-notebooks/blob/master/LICENSE.md)"
   ]
  }
 ],
 "metadata": {
  "kernelspec": {
   "display_name": "Python 3",
   "language": "python",
   "name": "python3"
  },
  "language_info": {
   "codemirror_mode": {
    "name": "ipython",
    "version": 3
   },
   "file_extension": ".py",
   "mimetype": "text/x-python",
   "name": "python",
   "nbconvert_exporter": "python",
   "pygments_lexer": "ipython3",
   "version": "3.9.12"
  },
  "orig_nbformat": 4
 },
 "nbformat": 4,
 "nbformat_minor": 2
}
