{
 "cells": [
  {
   "attachments": {},
   "cell_type": "markdown",
   "metadata": {},
   "source": [
    "![Callysto.ca Banner](https://github.com/callysto/curriculum-notebooks/blob/master/callysto-notebook-banner-top.jpg?raw=true)\n",
    "\n",
    "<a href=\"https://hub.callysto.ca/jupyter/hub/user-redirect/git-pull?repo=https%3A%2F%2Fgithub.com%2Fcallysto%2Fdata-science-and-artificial-intelligence&branch=main&subPath=06-data-analysis.ipynb&depth=1\" target=\"_parent\"><img src=\"https://raw.githubusercontent.com/callysto/curriculum-notebooks/master/open-in-callysto-button.svg?sanitize=true\" width=\"123\" height=\"24\" alt=\"Open in Callysto\"/></a>"
   ]
  },
  {
   "attachments": {},
   "cell_type": "markdown",
   "metadata": {},
   "source": [
    "# Data Analysis\n",
    "\n",
    "Now that you have some experience with data science, "
   ]
  },
  {
   "cell_type": "code",
   "execution_count": null,
   "metadata": {},
   "outputs": [],
   "source": [
    "# query the PokeAPI for data about all Pokemon\n",
    "import requests\n",
    "import pandas as pd\n",
    "r = requests.get('https://pokeapi.co/api/v2/pokemon?limit=100000')\n",
    "df = pd.DataFrame(r.json()['results'])\n",
    "df"
   ]
  },
  {
   "cell_type": "code",
   "execution_count": null,
   "metadata": {},
   "outputs": [],
   "source": [
    "abilities = []\n",
    "base_experience = []\n",
    "forms = []\n",
    "#game_indices = []\n",
    "height = []\n",
    "held_items = []\n",
    "id = []\n",
    "is_default = []\n",
    "location_area_encounters = []\n",
    "moves = []\n",
    "#name = []\n",
    "order = []\n",
    "species = []\n",
    "sprites = []\n",
    "stats = []\n",
    "types = []\n",
    "weight = []\n",
    "#for i in range(5):\n",
    "for i in range(len(df)):\n",
    "    print(df['name'][i])\n",
    "    try:\n",
    "        r = requests.get(df['url'][i])\n",
    "        abilities.append(r.json()['abilities'])\n",
    "        base_experience.append(r.json()['base_experience'])\n",
    "        forms.append(r.json()['forms'])\n",
    "        #game_indices.append(r.json()['game_indices'])\n",
    "        height.append(r.json()['height'])\n",
    "        held_items.append(r.json()['held_items'])\n",
    "        id.append(r.json()['id'])\n",
    "        is_default.append(r.json()['is_default'])\n",
    "        location_area_encounters.append(r.json()['location_area_encounters'])\n",
    "        moves.append(r.json()['moves'])\n",
    "        #name.append(r.json()['name'])\n",
    "        order.append(r.json()['order'])\n",
    "        species.append(r.json()['species'])\n",
    "        sprites.append(r.json()['sprites'])\n",
    "        stats.append(r.json()['stats'])\n",
    "        types.append(r.json()['types'])\n",
    "        weight.append(r.json()['weight'])\n",
    "    except:\n",
    "        abilities.append(None)\n",
    "        base_experience.append(None)\n",
    "        forms.append(None)\n",
    "        #game_indices.append(None)\n",
    "        height.append(None)\n",
    "        held_items.append(None)\n",
    "        id.append(None)\n",
    "        is_default.append(None)\n",
    "        location_area_encounters.append(None)\n",
    "        moves.append(None)\n",
    "        #name.append(None)\n",
    "        order.append(None)\n",
    "        species.append(None)\n",
    "        sprites.append(None)\n",
    "        stats.append(None)\n",
    "        types.append(None)\n",
    "        weight.append(None)\n",
    "df['id'] = id\n",
    "df['height'] = height\n",
    "df['weight'] = weight\n",
    "df['base_experience'] = base_experience\n",
    "df['abilities'] = abilities\n",
    "df['forms'] = forms\n",
    "#df['game_indices'] = game_indices\n",
    "#df['held_items'] = held_items\n",
    "df['is_default'] = is_default\n",
    "df['location_area_encounters'] = location_area_encounters\n",
    "df['moves'] = moves\n",
    "#df['name'] = name\n",
    "df['order'] = order\n",
    "df['species'] = species\n",
    "df['sprites'] = sprites\n",
    "df['stats'] = stats\n",
    "df['types'] = types\n",
    "df = df.drop('url', axis=1) # drop url column\n",
    "df"
   ]
  },
  {
   "cell_type": "code",
   "execution_count": null,
   "metadata": {},
   "outputs": [],
   "source": [
    "df.to_pickle('data/pokemon.pkl')"
   ]
  },
  {
   "cell_type": "code",
   "execution_count": null,
   "metadata": {},
   "outputs": [],
   "source": [
    "import pandas as pd\n",
    "df = pd.read_pickle('data/pokemon.pkl')"
   ]
  },
  {
   "cell_type": "code",
   "execution_count": null,
   "metadata": {},
   "outputs": [],
   "source": [
    "# split the stats column into multiple columns\n",
    "df_stats = pd.DataFrame(df['stats'].tolist())\n",
    "df_stats.columns = ['hp','attack','defense','special-attack','special-defense','speed']\n",
    "for column in df_stats.columns:\n",
    "    df_stats[column] = df_stats[column].apply(lambda x: x['base_stat'] if x is not None else None)\n",
    "# join with the main dataframe\n",
    "df = df.join(df_stats)\n",
    "df = df.drop('stats', axis=1)\n",
    "df = df.drop('location_area_encounters', axis=1)\n",
    "df"
   ]
  },
  {
   "cell_type": "code",
   "execution_count": null,
   "metadata": {},
   "outputs": [],
   "source": [
    "abilities_lists = [[],[],[]]\n",
    "for i in range(len(df)):\n",
    "    for n in range(3):\n",
    "        try:\n",
    "            ability = df['abilities'][i][n]['ability']['name']\n",
    "            \n",
    "        except:\n",
    "            ability = None\n",
    "        abilities_lists[n].append(ability)\n",
    "\n",
    "df['ability1'] = abilities_lists[0]\n",
    "df['ability2'] = abilities_lists[1]\n",
    "df['ability3'] = abilities_lists[2]\n",
    "df = df.drop('abilities', axis=1)\n",
    "\n",
    "df['forms'] = df['forms'].apply(lambda x: x[0]['name'] if x is not None else None)\n",
    "\n",
    "\n"
   ]
  },
  {
   "cell_type": "code",
   "execution_count": null,
   "metadata": {},
   "outputs": [],
   "source": [
    "df.tail(3)"
   ]
  },
  {
   "cell_type": "code",
   "execution_count": null,
   "metadata": {},
   "outputs": [],
   "source": [
    "#df['types'][0]\n",
    "# split the types to two columns"
   ]
  },
  {
   "cell_type": "code",
   "execution_count": null,
   "metadata": {},
   "outputs": [],
   "source": [
    "df.to_pickle('data/pokemon.pkl')"
   ]
  },
  {
   "attachments": {},
   "cell_type": "markdown",
   "metadata": {},
   "source": [
    "The [next notebook](07-data-logging.ipynb) will introduce you to recording and using your own data."
   ]
  },
  {
   "attachments": {},
   "cell_type": "markdown",
   "metadata": {},
   "source": [
    "[![Callysto.ca License](https://github.com/callysto/curriculum-notebooks/blob/master/callysto-notebook-banner-bottom.jpg?raw=true)](https://github.com/callysto/curriculum-notebooks/blob/master/LICENSE.md)"
   ]
  }
 ],
 "metadata": {
  "kernelspec": {
   "display_name": "Python 3",
   "language": "python",
   "name": "python3"
  },
  "language_info": {
   "codemirror_mode": {
    "name": "ipython",
    "version": 3
   },
   "file_extension": ".py",
   "mimetype": "text/x-python",
   "name": "python",
   "nbconvert_exporter": "python",
   "pygments_lexer": "ipython3",
   "version": "3.10.6"
  },
  "orig_nbformat": 4
 },
 "nbformat": 4,
 "nbformat_minor": 2
}
