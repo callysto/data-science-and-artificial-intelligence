{
 "cells": [
  {
   "attachments": {},
   "cell_type": "markdown",
   "metadata": {},
   "source": [
    "![Callysto.ca Banner](https://github.com/callysto/curriculum-notebooks/blob/master/callysto-notebook-banner-top.jpg?raw=true)\n",
    "\n",
    "<a href=\"https://hub.callysto.ca/jupyter/hub/user-redirect/git-pull?repo=https%3A%2F%2Fgithub.com%2Fcallysto%2Fdata-science-and-artificial-intelligence&branch=main&subPath=01-introduction.ipynb&depth=1\" target=\"_parent\"><img src=\"https://raw.githubusercontent.com/callysto/curriculum-notebooks/master/open-in-callysto-button.svg?sanitize=true\" width=\"123\" height=\"24\" alt=\"Open in Callysto\"/></a>"
   ]
  },
  {
   "attachments": {},
   "cell_type": "markdown",
   "metadata": {},
   "source": [
    "# Introduction to Data Science and Artificial Intelligence\n",
    "\n",
    "This series of notebooks is designed to introduce you to the foundational concepts and techniques used in data science and artificial intelligence.\n",
    "\n",
    "As our world becomes increasingly data-driven, the ability to analyze, visualize, and draw insights from large and complex datasets is becoming an essential skill. Data science can provide you with the tools to make better decisions and solve complex problems.\n",
    "\n",
    "In addition, the rise of artificial intelligence and machine learning is revolutionizing the world. Understanding the principles and applications of AI is important for the future.\n",
    "\n",
    "We will cover a wide range of topics, from basic data manipulation to advanced machine learning algorithms. We will use [Python](https://www.python.org/) as our programming language in [Jupyter notebooks](https://jupyter.org/) and introduce you to [code libraries](https://www.geeksforgeeks.org/libraries-in-python/) such as [NumPy](https://numpy.org/), [pandas](https://pandas.pydata.org/), [Plotly](https://plotly.com/python/), and [NLTK](https://www.nltk.org/).\n",
    "\n",
    "Each notebook will focus on a specific topic, and we will provide plenty of examples and exercises to help you solidify your understanding. Whether you're a complete beginner or have some prior experience, this series will provide you with a solid foundation in data science and artificial intelligence.\n",
    "\n",
    "To run code in a Jupyter notebook, click on a code cell such as the one below then click the `▶Run` button at the top of the window near the stop (`◼`) button."
   ]
  },
  {
   "cell_type": "code",
   "execution_count": null,
   "metadata": {},
   "outputs": [],
   "source": [
    "print('Hello World')"
   ]
  },
  {
   "attachments": {},
   "cell_type": "markdown",
   "metadata": {},
   "source": [
    "Using Python code, we can create and use variables."
   ]
  },
  {
   "cell_type": "code",
   "execution_count": null,
   "metadata": {},
   "outputs": [],
   "source": [
    "x = 5\n",
    "num = 7\n",
    "other_variable = 'some text'\n",
    "a_list = [2, 4, 6, 10, 255]\n",
    "another_list = ['These', 'are', 'strings']\n",
    "print(x)\n",
    "print(x + num)\n",
    "print(x + num + 10)\n",
    "print(another_list)"
   ]
  },
  {
   "attachments": {},
   "cell_type": "markdown",
   "metadata": {},
   "source": [
    "Once variables are created, they are shared across the whole notebook."
   ]
  },
  {
   "cell_type": "code",
   "execution_count": null,
   "metadata": {},
   "outputs": [],
   "source": [
    "print('the value of num is', num)\n",
    "print(a_list)\n"
   ]
  },
  {
   "attachments": {},
   "cell_type": "markdown",
   "metadata": {},
   "source": [
    "Python also has control structures like loops and if/else statements."
   ]
  },
  {
   "cell_type": "code",
   "execution_count": null,
   "metadata": {},
   "outputs": [],
   "source": [
    "for item in another_list:\n",
    "    print(item)\n",
    "    print('---')\n",
    "\n",
    "print(a_list)\n",
    "print('----')\n",
    "for item in a_list:\n",
    "    if item > 5:\n",
    "        print(item)\n",
    "    else:\n",
    "        print('smaller than 5')"
   ]
  },
  {
   "attachments": {},
   "cell_type": "markdown",
   "metadata": {},
   "source": [
    "Now that you have run some Python code, the [next notebook](02-working-with-data.ipynb) will introduce you to working with data."
   ]
  },
  {
   "attachments": {},
   "cell_type": "markdown",
   "metadata": {},
   "source": [
    "[![Callysto.ca License](https://github.com/callysto/curriculum-notebooks/blob/master/callysto-notebook-banner-bottom.jpg?raw=true)](https://github.com/callysto/curriculum-notebooks/blob/master/LICENSE.md)"
   ]
  }
 ],
 "metadata": {
  "kernelspec": {
   "display_name": "Python 3",
   "language": "python",
   "name": "python3"
  },
  "language_info": {
   "codemirror_mode": {
    "name": "ipython",
    "version": 3
   },
   "file_extension": ".py",
   "mimetype": "text/x-python",
   "name": "python",
   "nbconvert_exporter": "python",
   "pygments_lexer": "ipython3",
   "version": "3.10.1"
  },
  "orig_nbformat": 4
 },
 "nbformat": 4,
 "nbformat_minor": 2
}
