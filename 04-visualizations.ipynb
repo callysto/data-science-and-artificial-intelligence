{
 "cells": [
  {
   "attachments": {},
   "cell_type": "markdown",
   "metadata": {},
   "source": [
    "![Callysto.ca Banner](https://github.com/callysto/curriculum-notebooks/blob/master/callysto-notebook-banner-top.jpg?raw=true)\n",
    "\n",
    "<a href=\"https://hub.callysto.ca/jupyter/hub/user-redirect/git-pull?repo=https%3A%2F%2Fgithub.com%2Fcallysto%2Fdata-science-and-artificial-intelligence&branch=main&subPath=04-visualizations.ipynb&depth=1\" target=\"_parent\"><img src=\"https://raw.githubusercontent.com/callysto/curriculum-notebooks/master/open-in-callysto-button.svg?sanitize=true\" width=\"123\" height=\"24\" alt=\"Open in Callysto\"/></a>"
   ]
  },
  {
   "attachments": {},
   "cell_type": "markdown",
   "metadata": {},
   "source": [
    "# Visualizations\n",
    "\n",
    "In this notebook we'll visualize data using the [Plotly Express](https://plotly.com/python/plotly-express/) library, imported as `px`. Again we will use the pets data set."
   ]
  },
  {
   "cell_type": "code",
   "execution_count": null,
   "metadata": {},
   "outputs": [],
   "source": [
    "import pandas as pd\n",
    "import plotly.express as px\n",
    "pets = pd.read_csv('https://raw.githubusercontent.com/callysto/data-files/main/data-science-and-artificial-intelligence/pets.csv')\n",
    "\n",
    "# create a scatter plot\n",
    "px.scatter(pets, x='Age (years)', y='Time to Adoption (weeks)', title='Time to Adoption by Age')"
   ]
  },
  {
   "attachments": {},
   "cell_type": "markdown",
   "metadata": {},
   "source": [
    "These visualizations help us to see trends and outliers in the data.\n",
    "\n",
    "We can also add other options like `color`, `size`, and `hover_name`."
   ]
  },
  {
   "cell_type": "code",
   "execution_count": null,
   "metadata": {},
   "outputs": [],
   "source": [
    "px.scatter(pets, x='Age (years)', y='Time to Adoption (weeks)', color='Species', size='Weight (lbs)', hover_name='Name', title='Pet Adoption Times')"
   ]
  },
  {
   "attachments": {},
   "cell_type": "markdown",
   "metadata": {},
   "source": [
    "---\n",
    "\n",
    "### Exercise\n",
    "\n",
    "Create a scatter plot with age on the x-axis, weight on the y-axis, and `color='Fixed'`.\n",
    "\n",
    "---"
   ]
  },
  {
   "cell_type": "code",
   "execution_count": null,
   "metadata": {},
   "outputs": [],
   "source": []
  },
  {
   "attachments": {},
   "cell_type": "markdown",
   "metadata": {},
   "source": [
    "There are some different options for [bar charts](https://plotly.com/python/bar-charts), such as `barmode`. We can also use the `.show()` method to display a visualization even if it's not at the end of a code cell."
   ]
  },
  {
   "cell_type": "code",
   "execution_count": null,
   "metadata": {},
   "outputs": [],
   "source": [
    "px.bar(pets, x='Species', y='Time to Adoption (weeks)', color='Gender', barmode='group', title='Grouped Bars').show()\n",
    "px.bar(pets, x='Species', y='Time to Adoption (weeks)', color='Gender', barmode='stack', title='Stacked Bars').show()"
   ]
  },
  {
   "attachments": {},
   "cell_type": "markdown",
   "metadata": {},
   "source": [
    "---\n",
    "\n",
    "### Exercise\n",
    "\n",
    "Create a bar chart with pet names on the x-axis and ages on the y-axis. You don't need to use the `barmode` attribute.\n",
    "\n",
    "---"
   ]
  },
  {
   "cell_type": "code",
   "execution_count": null,
   "metadata": {},
   "outputs": [],
   "source": []
  },
  {
   "attachments": {},
   "cell_type": "markdown",
   "metadata": {},
   "source": [
    "A [histogram](https://plotly.com/python/histograms) can be used to show statistics such as `count`, `sum`, or `average`."
   ]
  },
  {
   "cell_type": "code",
   "execution_count": null,
   "metadata": {},
   "outputs": [],
   "source": [
    "fig = px.histogram(pets, x='Species', y='Weight (lbs)', title='Total Weight by Species')\n",
    "fig.show()\n",
    "fig2 = px.histogram(pets, x=\"Species\", y=\"Weight (lbs)\", histfunc=\"avg\", title=\"Average Weight by Species\")\n",
    "fig2.show()"
   ]
  },
  {
   "attachments": {},
   "cell_type": "markdown",
   "metadata": {},
   "source": [
    "Let's try making a line plot of just one column, `'Age (years)'`, from the dataset. By default the `index` will be on the x-axis."
   ]
  },
  {
   "cell_type": "code",
   "execution_count": null,
   "metadata": {},
   "outputs": [],
   "source": [
    "px.line(pets[['Age (years)']], title='Pet Ages')"
   ]
  },
  {
   "attachments": {},
   "cell_type": "markdown",
   "metadata": {},
   "source": [
    "We can also change the **axis labels** using a couple of different methods."
   ]
  },
  {
   "cell_type": "code",
   "execution_count": null,
   "metadata": {},
   "outputs": [],
   "source": [
    "col = pets[['Age (years)']]\n",
    "px.line(col, title='Pet Ages', labels={'index':'Pet Number', 'value':'Age (years)'}).show()\n",
    "px.line(col, title='Pet Ages').update_xaxes(title_text='Pet Number').update_yaxes(title_text='Age (years)').show()"
   ]
  },
  {
   "attachments": {},
   "cell_type": "markdown",
   "metadata": {},
   "source": [
    "It's also possible to hide the legend."
   ]
  },
  {
   "cell_type": "code",
   "execution_count": null,
   "metadata": {},
   "outputs": [],
   "source": [
    "px.line(pets[['Age (years)']], title='Pet Ages').update_layout(showlegend=False)"
   ]
  },
  {
   "attachments": {},
   "cell_type": "markdown",
   "metadata": {},
   "source": [
    "Plotly has functions to create many different types of visualizations, listed on the [Plotly Express page](https://plotly.com/python/plotly-express/). Let's try a pie chart."
   ]
  },
  {
   "cell_type": "code",
   "execution_count": null,
   "metadata": {},
   "outputs": [],
   "source": [
    "px.pie(pets, names='Species', values='Legs', title='Number of Legs by Species')"
   ]
  },
  {
   "attachments": {},
   "cell_type": "markdown",
   "metadata": {},
   "source": [
    "---\n",
    "\n",
    "### Exercise\n",
    "\n",
    "Create a chart of your choice with custom axis labels and an interesting title.\n",
    "\n",
    "---"
   ]
  },
  {
   "cell_type": "code",
   "execution_count": null,
   "metadata": {},
   "outputs": [],
   "source": []
  },
  {
   "attachments": {},
   "cell_type": "markdown",
   "metadata": {},
   "source": [
    "To download a visualization that you have created, move your mouse near the top right of the visualization and click on the camera icon 📷 that appears there.\n",
    "\n",
    "---\n",
    "\n",
    "<span style=\"color:#663399\">Your **assignment** is to create a document and insert the three visualizations you created.</span>\n",
    "\n",
    "---\n",
    "\n",
    "Now that you can import data, compute statistics, and create visualizations, the [next notebook](05-markdown.ipynb) will introduce some ways to format text."
   ]
  },
  {
   "attachments": {},
   "cell_type": "markdown",
   "metadata": {},
   "source": [
    "[![Callysto.ca License](https://github.com/callysto/curriculum-notebooks/blob/master/callysto-notebook-banner-bottom.jpg?raw=true)](https://github.com/callysto/curriculum-notebooks/blob/master/LICENSE.md)"
   ]
  }
 ],
 "metadata": {
  "kernelspec": {
   "display_name": "Python 3",
   "language": "python",
   "name": "python3"
  },
  "language_info": {
   "codemirror_mode": {
    "name": "ipython",
    "version": 3
   },
   "file_extension": ".py",
   "mimetype": "text/x-python",
   "name": "python",
   "nbconvert_exporter": "python",
   "pygments_lexer": "ipython3",
   "version": "3.10.1"
  },
  "orig_nbformat": 4
 },
 "nbformat": 4,
 "nbformat_minor": 2
}
