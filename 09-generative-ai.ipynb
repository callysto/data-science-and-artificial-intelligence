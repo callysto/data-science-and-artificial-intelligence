{
 "cells": [
  {
   "attachments": {},
   "cell_type": "markdown",
   "metadata": {},
   "source": [
    "![Callysto.ca Banner](https://github.com/callysto/curriculum-notebooks/blob/master/callysto-notebook-banner-top.jpg?raw=true)\n",
    "\n",
    "<a href=\"https://hub.callysto.ca/jupyter/hub/user-redirect/git-pull?repo=https%3A%2F%2Fgithub.com%2Fcallysto%2Fdata-science-and-artificial-intelligence&branch=main&subPath=09-generative-ai.ipynb&depth=1\" target=\"_parent\"><img src=\"https://raw.githubusercontent.com/callysto/curriculum-notebooks/master/open-in-callysto-button.svg?sanitize=true\" width=\"123\" height=\"24\" alt=\"Open in Callysto\"/></a>"
   ]
  },
  {
   "attachments": {},
   "cell_type": "markdown",
   "metadata": {},
   "source": [
    "# Generative AI\n",
    "\n",
    "We have already looked at discriminative artificial intelligence that allows us detect and classify things, whether they are words, faces, or street signs. Next we will look at generative AI.\n",
    "\n",
    "Generative artificial intelligence includes tools that can create things like pictures, stories, essays, or music. It generates content based on things in training data sets that are mostly likely to appear near other things. For example, the phrase that starts `Fortnite is my favourite` would most likely be followed by the word `game`.\n",
    "\n",
    "These tools are continually improving, and we'll take a look at some of them that we can use without signing up or logging in. If you find a link or tool here that is no longer working, please email `contact@callysto.ca` to let us know."
   ]
  },
  {
   "attachments": {},
   "cell_type": "markdown",
   "metadata": {},
   "source": [
    "## Code Generation\n",
    "\n",
    "### GitHub Copilot\n",
    "\n",
    "[GitHub Copilot](https://github.com/features/copilot) is a code-generation tool that is described as an \"AI pair programmer\" to help you write code. It is free for students and teachers, but it requires to [sign up and verify your status](https://techcommunity.microsoft.com/t5/educator-developer-blog/step-by-step-setting-up-github-student-and-github-copilot-as-an/ba-p/3736279) and [isntall a VS Code extension](https://docs.github.com/en/copilot/quickstart#installing-the-github-copilot-extension-for-visual-studio-code).\n",
    "\n",
    "### CodeGeeX\n",
    "\n",
    "On the other hand, CodeGeeX hosts a free [code generation site](https://codegeex.cn/playground) that allows use to generate code from comments or descriptions, as well as [GitHub repository of their code](https://github.com/THUDM/CodeGeeX). \n",
    "\n",
    "1. Open [CodeGeeX Playground](https://codegeex.cn/playground).\n",
    "1. Set the language to `Python` and paste in the following two lines of code:\n",
    "    ```\n",
    "    # Calculate the sum of all the multiples of 5 that are less than 100\n",
    "    sum = 0\n",
    "    ```\n",
    "1. Click the `Generate` button repeatedly until you see a line that includes `Gode generation finished`.\n",
    "1. Paste the code output into the cell below and run the cell."
   ]
  },
  {
   "cell_type": "code",
   "execution_count": null,
   "metadata": {},
   "outputs": [],
   "source": []
  },
  {
   "attachments": {},
   "cell_type": "markdown",
   "metadata": {},
   "source": [
    "Hopefully CodeGeeX generated something like\n",
    "```\n",
    "sum = 0\n",
    "for i in range(1, 100):\n",
    "    if i % 5 == 0:\n",
    "        sum += i\n",
    "print(sum)\n",
    "```\n",
    "and the output of the code should be `950`."
   ]
  },
  {
   "attachments": {},
   "cell_type": "markdown",
   "metadata": {},
   "source": [
    "## Text Generation\n",
    "\n",
    "There are also many chat-based or text generation AI tools. The most famous is [ChatGPT](https://chat-gpt.org), but there are others such as [Perplexity](https://www.perplexity.ai), [InferKit](https://app.inferkit.com/demo) and [AI Writer](https://tools.picsart.com/text/ai-writer/editor/?id=0) that are free to use with no sign-up required. You can give them a try."
   ]
  },
  {
   "attachments": {},
   "cell_type": "markdown",
   "metadata": {},
   "source": [
    "## Image Generation\n",
    "\n",
    "Generating images from text descriptions (or from existing images) is another interesting application of AI. Tools such as [Stable Diffusion Playground](https://stablediffusionweb.com/#demo) and [Craiyon](https://www.craiyon.com) allow you input a prompt and see what is generated. There are also tools hosted on [Hugging Face](https://huggingface.co) such as [GLIGen](https://huggingface.co/spaces/gligen/demo) which allows you to draw where you want things to appear and [InstructPix2Pix](https://huggingface.co/spaces/timbrooks/instruct-pix2pix) which allows you to edit and photos using prompts."
   ]
  },
  {
   "attachments": {},
   "cell_type": "markdown",
   "metadata": {},
   "source": [
    "## Music Generation\n",
    "\n",
    "There aren't as many tools for generating music, but one free online tool you can try is [Riffusion](https://www.riffusion.com)."
   ]
  },
  {
   "attachments": {},
   "cell_type": "markdown",
   "metadata": {},
   "source": [
    "# Issues and Ethics\n",
    "\n",
    "While there is a lot of excitement around AI tools, there are many issues to consider."
   ]
  },
  {
   "attachments": {},
   "cell_type": "markdown",
   "metadata": {},
   "source": [
    "[![Callysto.ca License](https://github.com/callysto/curriculum-notebooks/blob/master/callysto-notebook-banner-bottom.jpg?raw=true)](https://github.com/callysto/curriculum-notebooks/blob/master/LICENSE.md)"
   ]
  }
 ],
 "metadata": {
  "kernelspec": {
   "display_name": "Python 3",
   "language": "python",
   "name": "python3"
  },
  "language_info": {
   "codemirror_mode": {
    "name": "ipython",
    "version": 3
   },
   "file_extension": ".py",
   "mimetype": "text/x-python",
   "name": "python",
   "nbconvert_exporter": "python",
   "pygments_lexer": "ipython3",
   "version": "3.10.1"
  },
  "orig_nbformat": 4
 },
 "nbformat": 4,
 "nbformat_minor": 2
}
